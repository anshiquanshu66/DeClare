{
 "cells": [
  {
   "cell_type": "code",
   "execution_count": 1,
   "metadata": {},
   "outputs": [],
   "source": [
    "import numpy as np\n",
    "import pandas as pd\n",
    "import matplotlib.pyplot as plt\n",
    "import torch\n",
    "from torch import Tensor, optim, cuda\n",
    "from torch.autograd import Variable\n",
    "from torch.nn import functional as F\n",
    "from torch.utils.data import Dataset\n",
    "import torch.nn as nn\n",
    "import csv\n",
    "import os\n",
    "import pandas as pd\n",
    "import matplotlib.pyplot as plt\n",
    "import torch\n",
    "from torch import Tensor, optim, cuda\n",
    "from torch.autograd import Variable\n",
    "from torch.nn import functional as F\n",
    "from torch.utils.data import Dataset, DataLoader\n",
    "import torch.nn as nn\n",
    "import csv\n",
    "import os\n",
    "\n",
    "from data.data import DeClareDataset\n",
    "from model.deClare import DeClareModel"
   ]
  },
  {
   "cell_type": "code",
   "execution_count": 2,
   "metadata": {},
   "outputs": [
    {
     "data": {
      "text/plain": [
       "'1.0.0'"
      ]
     },
     "execution_count": 2,
     "metadata": {},
     "output_type": "execute_result"
    }
   ],
   "source": [
    "torch.__version__"
   ]
  },
  {
   "cell_type": "markdown",
   "metadata": {},
   "source": [
    "# Load Datasets"
   ]
  },
  {
   "cell_type": "code",
   "execution_count": 3,
   "metadata": {},
   "outputs": [],
   "source": [
    "SNOPES_LOC = \"./Datasets/Snopes/snopes.tsv\"\n",
    "#consists of rumors analyzed on the Snopes website along with their credibility labels (true or false), \n",
    "#sets of reporting articles, and their respective web sources\n",
    "\n",
    "POLITIFACT_LOC = \"./Datasets/PolitiFact/politifact.tsv\"\n",
    "\n",
    "glove_data_file = \"./Glove/glove.6B.100d.txt\""
   ]
  },
  {
   "cell_type": "code",
   "execution_count": 4,
   "metadata": {},
   "outputs": [
    {
     "name": "stdout",
     "output_type": "stream",
     "text": [
      "Successfully read news data from ./Datasets/Snopes/snopes.tsv\n",
      "Number of articles = 29242\n",
      "Number of claims = 4341\n",
      "Using pre-built vocabulary\n"
     ]
    }
   ],
   "source": [
    "snopes = DeClareDataset(SNOPES_LOC, glove_data_file)"
   ]
  },
  {
   "cell_type": "markdown",
   "metadata": {},
   "source": [
    "## Preliminary Analysis"
   ]
  },
  {
   "cell_type": "code",
   "execution_count": 5,
   "metadata": {},
   "outputs": [],
   "source": [
    "batch_size = 4\n",
    "nb_lstm_units = 64"
   ]
  },
  {
   "cell_type": "code",
   "execution_count": 6,
   "metadata": {},
   "outputs": [],
   "source": [
    "dataloader = DataLoader(snopes, batch_size)"
   ]
  },
  {
   "cell_type": "code",
   "execution_count": 7,
   "metadata": {},
   "outputs": [],
   "source": [
    "declare = DeClareModel(snopes.initial_embeddings, snopes.claim_source_vocab_size, \n",
    "                       snopes.article_source_vocab_size, nb_lstm_units, batch_size)"
   ]
  },
  {
   "cell_type": "code",
   "execution_count": 8,
   "metadata": {},
   "outputs": [
    {
     "name": "stderr",
     "output_type": "stream",
     "text": [
      "/home/manu/Projects/prod/DeClare/model/deClare.py:47: UserWarning: Implicit dimension choice for softmax has been deprecated. Change the call to include dim=X as an argument.\n",
      "  attentions = F.softmax(claim_article_concat)\n",
      "/home/manu/Software/anaconda3/envs/pytorch/lib/python3.7/site-packages/torch/nn/functional.py:1332: UserWarning: nn.functional.sigmoid is deprecated. Use torch.sigmoid instead.\n",
      "  warnings.warn(\"nn.functional.sigmoid is deprecated. Use torch.sigmoid instead.\")\n"
     ]
    },
    {
     "data": {
      "text/plain": [
       "torch.Size([4, 1])"
      ]
     },
     "execution_count": 8,
     "metadata": {},
     "output_type": "execute_result"
    }
   ],
   "source": [
    "for data_sample in dataloader:\n",
    "    temp = declare(data_sample[0], data_sample[1], data_sample[2], data_sample[3], data_sample[4], data_sample[5])\n",
    "    break"
   ]
  },
  {
   "cell_type": "code",
   "execution_count": null,
   "metadata": {},
   "outputs": [],
   "source": [
    "temp.shape"
   ]
  },
  {
   "cell_type": "code",
   "execution_count": 11,
   "metadata": {},
   "outputs": [
    {
     "data": {
      "text/plain": [
       "'best buy chain eschewing use word christmas 2006 holiday print advertising'"
      ]
     },
     "execution_count": 11,
     "metadata": {},
     "output_type": "execute_result"
    }
   ],
   "source": [
    "snopes.news_df['Claim'].iloc[0]"
   ]
  },
  {
   "cell_type": "code",
   "execution_count": 12,
   "metadata": {},
   "outputs": [
    {
     "data": {
      "text/plain": [
       "21"
      ]
     },
     "execution_count": 12,
     "metadata": {},
     "output_type": "execute_result"
    }
   ],
   "source": [
    "snopes.news_df['Article'].str.split().str.len().min()"
   ]
  },
  {
   "cell_type": "code",
   "execution_count": 13,
   "metadata": {},
   "outputs": [
    {
     "name": "stderr",
     "output_type": "stream",
     "text": [
      "/home/manu/Projects/prod/DeClare/data/data.py:114: FutureWarning: Method .as_matrix will be removed in a future version. Use .values instead.\n",
      "  return self.glove_df.loc[w].as_matrix()\n"
     ]
    },
    {
     "data": {
      "text/plain": [
       "array([-0.084215 ,  0.69597  ,  0.28383  , -0.22497  , -0.55923  ,\n",
       "        0.21196  , -0.15175  ,  0.31601  ,  0.24803  , -0.36385  ,\n",
       "        0.2252   ,  0.34109  ,  0.61438  ,  0.08318  ,  0.74894  ,\n",
       "       -0.38785  , -0.27211  ,  0.2656   , -0.66332  ,  0.45571  ,\n",
       "        0.34949  ,  0.38635  ,  0.25707  , -0.60101  , -0.047292 ,\n",
       "       -0.41198  ,  0.38246  , -0.52151  ,  0.037757 , -0.42492  ,\n",
       "       -0.36352  , -0.037377 ,  0.31263  ,  0.19709  ,  0.008142 ,\n",
       "        0.53871  , -0.074505 ,  0.31395  ,  0.35129  , -0.39005  ,\n",
       "       -0.5474   , -0.11395  ,  0.076668 , -0.61069  ,  0.15894  ,\n",
       "       -0.33043  ,  0.75967  , -0.52289  , -0.38957  , -0.71164  ,\n",
       "        0.28724  , -0.35683  ,  0.050529 ,  1.3392   , -0.16064  ,\n",
       "       -2.9236   ,  0.17524  , -0.42109  ,  1.5235   ,  0.85181  ,\n",
       "       -0.47563  ,  1.1225   , -0.48463  ,  0.36458  ,  0.97809  ,\n",
       "       -0.2227   ,  0.88791  ,  0.068738 ,  0.22557  ,  0.026459 ,\n",
       "       -0.032799 , -0.40426  ,  0.14579  , -0.4535   ,  0.47756  ,\n",
       "        0.15933  ,  0.24236  ,  0.0091798, -1.3502   , -0.078424 ,\n",
       "        0.57803  , -0.50061  , -0.19374  ,  0.29587  , -1.2316   ,\n",
       "       -0.099825 ,  0.31661  , -0.46539  , -0.54243  , -0.13506  ,\n",
       "       -0.12897  , -0.29543  , -0.28094  ,  0.092313 , -0.78078  ,\n",
       "       -0.097087 , -0.57313  , -0.54     ,  0.58031  ,  0.46698  ])"
      ]
     },
     "execution_count": 13,
     "metadata": {},
     "output_type": "execute_result"
    }
   ],
   "source": [
    "snopes._vec('there')"
   ]
  },
  {
   "cell_type": "code",
   "execution_count": 14,
   "metadata": {},
   "outputs": [],
   "source": [
    "a = torch.ones(5, 2, 4)\n",
    "b = torch.randn(5, 4)\n",
    "#c shape (5, 2, 8)"
   ]
  },
  {
   "cell_type": "code",
   "execution_count": 15,
   "metadata": {},
   "outputs": [
    {
     "data": {
      "text/plain": [
       "tensor([[1., 1., 1., 1.],\n",
       "        [1., 1., 1., 1.],\n",
       "        [1., 1., 1., 1.],\n",
       "        [1., 1., 1., 1.],\n",
       "        [1., 1., 1., 1.]])"
      ]
     },
     "execution_count": 15,
     "metadata": {},
     "output_type": "execute_result"
    }
   ],
   "source": [
    "a.mean(1)"
   ]
  },
  {
   "cell_type": "code",
   "execution_count": 17,
   "metadata": {},
   "outputs": [],
   "source": [
    "c = torch.cat([a,b.unsqueeze(1).expand(-1, 2, -1)], 2)"
   ]
  },
  {
   "cell_type": "code",
   "execution_count": 18,
   "metadata": {},
   "outputs": [
    {
     "data": {
      "text/plain": [
       "(tensor([[[1., 1., 1., 1.],\n",
       "          [1., 1., 1., 1.]],\n",
       " \n",
       "         [[1., 1., 1., 1.],\n",
       "          [1., 1., 1., 1.]],\n",
       " \n",
       "         [[1., 1., 1., 1.],\n",
       "          [1., 1., 1., 1.]],\n",
       " \n",
       "         [[1., 1., 1., 1.],\n",
       "          [1., 1., 1., 1.]],\n",
       " \n",
       "         [[1., 1., 1., 1.],\n",
       "          [1., 1., 1., 1.]]]), tensor([[ 1.2066, -0.0813, -0.3177,  0.6673],\n",
       "         [ 0.3020,  0.8963,  2.3230, -0.6914],\n",
       "         [-1.1176,  0.1443, -1.1646, -1.4895],\n",
       "         [ 0.9507,  1.2500, -0.6413,  0.4825],\n",
       "         [ 0.4117, -0.4153,  1.0821,  0.4459]]))"
      ]
     },
     "execution_count": 18,
     "metadata": {},
     "output_type": "execute_result"
    }
   ],
   "source": [
    "a, b"
   ]
  },
  {
   "cell_type": "code",
   "execution_count": 19,
   "metadata": {},
   "outputs": [
    {
     "data": {
      "text/plain": [
       "tensor([[[ 1.0000,  1.0000,  1.0000,  1.0000,  1.2066, -0.0813, -0.3177,\n",
       "           0.6673],\n",
       "         [ 1.0000,  1.0000,  1.0000,  1.0000,  1.2066, -0.0813, -0.3177,\n",
       "           0.6673]],\n",
       "\n",
       "        [[ 1.0000,  1.0000,  1.0000,  1.0000,  0.3020,  0.8963,  2.3230,\n",
       "          -0.6914],\n",
       "         [ 1.0000,  1.0000,  1.0000,  1.0000,  0.3020,  0.8963,  2.3230,\n",
       "          -0.6914]],\n",
       "\n",
       "        [[ 1.0000,  1.0000,  1.0000,  1.0000, -1.1176,  0.1443, -1.1646,\n",
       "          -1.4895],\n",
       "         [ 1.0000,  1.0000,  1.0000,  1.0000, -1.1176,  0.1443, -1.1646,\n",
       "          -1.4895]],\n",
       "\n",
       "        [[ 1.0000,  1.0000,  1.0000,  1.0000,  0.9507,  1.2500, -0.6413,\n",
       "           0.4825],\n",
       "         [ 1.0000,  1.0000,  1.0000,  1.0000,  0.9507,  1.2500, -0.6413,\n",
       "           0.4825]],\n",
       "\n",
       "        [[ 1.0000,  1.0000,  1.0000,  1.0000,  0.4117, -0.4153,  1.0821,\n",
       "           0.4459],\n",
       "         [ 1.0000,  1.0000,  1.0000,  1.0000,  0.4117, -0.4153,  1.0821,\n",
       "           0.4459]]])"
      ]
     },
     "execution_count": 19,
     "metadata": {},
     "output_type": "execute_result"
    }
   ],
   "source": [
    "c"
   ]
  }
 ],
 "metadata": {
  "kernelspec": {
   "display_name": "Python [conda env:pytorch]",
   "language": "python",
   "name": "conda-env-pytorch-py"
  },
  "language_info": {
   "codemirror_mode": {
    "name": "ipython",
    "version": 3
   },
   "file_extension": ".py",
   "mimetype": "text/x-python",
   "name": "python",
   "nbconvert_exporter": "python",
   "pygments_lexer": "ipython3",
   "version": "3.7.1"
  }
 },
 "nbformat": 4,
 "nbformat_minor": 2
}
